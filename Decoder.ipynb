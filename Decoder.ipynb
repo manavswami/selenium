{
 "cells": [
  {
   "cell_type": "code",
   "execution_count": 1,
   "id": "familiar-support",
   "metadata": {},
   "outputs": [
    {
     "name": "stdout",
     "output_type": "stream",
     "text": [
      "Requirement already satisfied: selenium in /home/manish/anaconda3/lib/python3.7/site-packages (3.141.0)\n",
      "Requirement already satisfied: urllib3 in /home/manish/anaconda3/lib/python3.7/site-packages (from selenium) (1.26.4)\n"
     ]
    }
   ],
   "source": [
    "!pip install selenium\n"
   ]
  },
  {
   "cell_type": "code",
   "execution_count": 2,
   "id": "valued-chambers",
   "metadata": {},
   "outputs": [],
   "source": [
    "\n",
    "#importing webdriver from selenium\n",
    "from selenium import webdriver\n",
    "\n",
    "# webdriver.Chrome() will be used\n",
    "driver = webdriver.Chrome(executable_path = '/home/manish/study/notebook/chromedriver')\n",
    "   \n",
    "#URL of the website \n",
    "url = \"http://topflytech.com/Decoder.html\"\n",
    "   \n",
    "#opening link in the browser\n",
    "driver.get(url)"
   ]
  },
  {
   "cell_type": "code",
   "execution_count": 3,
   "id": "therapeutic-wealth",
   "metadata": {},
   "outputs": [],
   "source": [
    "input_value=driver.find_element_by_class_name(\"form-control\")\n",
    "\n",
    "input_value.send_keys('2626040053079b08652840427206680014a8c000000000024ac004050100640020160000823a8d002101280053060000e841976fbfc2c650ee410000014b12380000000ce2bb000000000000ff002828000054')"
   ]
  },
  {
   "cell_type": "code",
   "execution_count": 4,
   "id": "introductory-administrator",
   "metadata": {},
   "outputs": [],
   "source": [
    "parse_button=driver.find_element_by_class_name(\"input-group-append\")\n",
    "parse_button.click()"
   ]
  },
  {
   "cell_type": "code",
   "execution_count": 5,
   "id": "liked-ceramic",
   "metadata": {},
   "outputs": [],
   "source": [
    "html_list = driver.find_element_by_class_name(\"list-group\")\n",
    "items = html_list.find_elements_by_tag_name(\"li\")\n",
    "data=[]\n",
    "for item in items:\n",
    "    text = item.text\n",
    "    data.append(text)\n",
    "    data.append('\\n')"
   ]
  },
  {
   "cell_type": "code",
   "execution_count": 6,
   "id": "current-heath",
   "metadata": {},
   "outputs": [],
   "source": [
    "# write data in a file.\n",
    "file = open(\"output.txt\",\"w\")\n",
    "file.writelines(data)\n",
    "file.close()"
   ]
  },
  {
   "cell_type": "code",
   "execution_count": null,
   "id": "valued-conference",
   "metadata": {},
   "outputs": [],
   "source": []
  }
 ],
 "metadata": {
  "kernelspec": {
   "display_name": "Python 3",
   "language": "python",
   "name": "python3"
  },
  "language_info": {
   "codemirror_mode": {
    "name": "ipython",
    "version": 3
   },
   "file_extension": ".py",
   "mimetype": "text/x-python",
   "name": "python",
   "nbconvert_exporter": "python",
   "pygments_lexer": "ipython3",
   "version": "3.7.10"
  }
 },
 "nbformat": 4,
 "nbformat_minor": 5
}
